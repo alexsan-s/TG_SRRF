{
    "cells": [
        {
            "cell_type": "code",
            "execution_count": 93,
            "source": [
                "from apyori import apriori"
            ],
            "outputs": [],
            "metadata": {}
        },
        {
            "cell_type": "code",
            "execution_count": 105,
            "source": [
                "min_support = 0.7\r\n",
                "min_confidence = 1\r\n",
                "min_lift = 0\r\n",
                "min_length = 2"
            ],
            "outputs": [],
            "metadata": {}
        },
        {
            "cell_type": "code",
            "execution_count": 107,
            "source": [
                "transactions = [\r\n",
                "    ['p1','p2'],\r\n",
                "    ['p1','p2','p3','p4','p5'],\r\n",
                "    ['p1','p3','p4','p5'],\r\n",
                "]\r\n",
                "results = list(apriori(transactions,  min_support=min_support, min_confidence=min_confidence, min_lift=min_lift, min_length=min_length))"
            ],
            "outputs": [],
            "metadata": {}
        },
        {
            "cell_type": "code",
            "execution_count": 109,
            "source": [
                "results"
            ],
            "outputs": [
                {
                    "output_type": "execute_result",
                    "data": {
                        "text/plain": [
                            "[RelationRecord(items=frozenset({'p1'}), support=1.0, ordered_statistics=[OrderedStatistic(items_base=frozenset(), items_add=frozenset({'p1'}), confidence=1.0, lift=1.0)])]"
                        ]
                    },
                    "metadata": {},
                    "execution_count": 109
                }
            ],
            "metadata": {}
        },
        {
            "cell_type": "code",
            "execution_count": 111,
            "source": [
                "items = [x for x in results[0]]"
            ],
            "outputs": [],
            "metadata": {}
        },
        {
            "cell_type": "code",
            "execution_count": 113,
            "source": [
                "for item in results:\r\n",
                "\r\n",
                "    # first index of the inner list\r\n",
                "    # Contains base item and add item\r\n",
                "    pair = item[0] \r\n",
                "    items = [x for x in pair]\r\n",
                "    print(\"Rule: \" + str(items))\r\n",
                "\r\n",
                "    #second index of the inner list\r\n",
                "    print(\"Support: \" + str(item[1]))\r\n",
                "\r\n",
                "    #third index of the list located at 0th\r\n",
                "    #of the third index of the inner list\r\n",
                "\r\n",
                "    print(\"Confidence: \" + str(item[2][0][2]))\r\n",
                "    print(\"Lift: \" + str(item[2][0][3]))\r\n",
                "    print(\"=====================================\")"
            ],
            "outputs": [
                {
                    "output_type": "stream",
                    "name": "stdout",
                    "text": [
                        "Rule: ['p1']\n",
                        "Support: 1.0\n",
                        "Confidence: 1.0\n",
                        "Lift: 1.0\n",
                        "=====================================\n"
                    ]
                }
            ],
            "metadata": {}
        }
    ],
    "metadata": {
        "orig_nbformat": 4,
        "language_info": {
            "name": "python"
        }
    },
    "nbformat": 4,
    "nbformat_minor": 2
}