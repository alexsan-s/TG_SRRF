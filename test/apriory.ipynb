{
    "cells": [
        {
            "cell_type": "code",
            "execution_count": 45,
            "source": [
                "from apyori import apriori\r\n",
                "min_support = 0.4\r\n",
                "min_confidence = 0.5\r\n",
                "min_lift = 1.1\r\n",
                "min_length = 0"
            ],
            "outputs": [],
            "metadata": {}
        },
        {
            "cell_type": "code",
            "execution_count": 59,
            "source": [
                "transactions = [\r\n",
                "    ['cerveja','fralda','goma','refrigerante'],\r\n",
                "    ['cerveja','fralda'],\r\n",
                "    ['cerveja','fralda'],\r\n",
                "    ['cerveja','fralda'],\r\n",
                "    ['cerveja','fralda'],\r\n",
                "    ['cerveja','fralda','goma','lanche'],\r\n",
                "    ['cerveja','fralda','refrigerante','lanche'],\r\n",
                "    ['fralda','refrigerante'],\r\n",
                "    ['fralda'],\r\n",
                "    ['fralda'],\r\n",
                "    ['refrigerante','lanche'],\r\n",
                "    ['refrigerante','lanche'],\r\n",
                "    ['refrigerante','lanche'],\r\n",
                "]\r\n",
                "results = list(apriori(transactions,  min_support=min_support, min_confidence=min_confidence, min_lift=min_lift, min_length=min_length))\r\n",
                "print(results)"
            ],
            "outputs": [
                {
                    "output_type": "stream",
                    "name": "stdout",
                    "text": [
                        "[RelationRecord(items=frozenset({'fralda', 'cerveja'}), support=0.5384615384615384, ordered_statistics=[OrderedStatistic(items_base=frozenset({'cerveja'}), items_add=frozenset({'fralda'}), confidence=1.0, lift=1.2999999999999998), OrderedStatistic(items_base=frozenset({'fralda'}), items_add=frozenset({'cerveja'}), confidence=0.7, lift=1.3)])]\n"
                    ]
                }
            ],
            "metadata": {}
        },
        {
            "cell_type": "code",
            "execution_count": 63,
            "source": [
                "arrItem = []\r\n",
                "for item in results:\r\n",
                "    pair = item[0]\r\n",
                "    items = [x for x in pair]\r\n",
                "    for x in items:\r\n",
                "        arrItem.append(x)\r\n",
                "print(arrItem)"
            ],
            "outputs": [
                {
                    "output_type": "stream",
                    "name": "stdout",
                    "text": [
                        "['fralda', 'cerveja']\n"
                    ]
                }
            ],
            "metadata": {}
        },
        {
            "cell_type": "code",
            "execution_count": 68,
            "source": [
                "listUser = ['fralda','goma','refrigerante', 'lanche']\r\n",
                "for x in arrItem:\r\n",
                "    if x not in listUser:\r\n",
                "        print(\"De acordo com sua última compra o produto '{}' é uma boa indicação para ser comprado\".format(x))"
            ],
            "outputs": [
                {
                    "output_type": "stream",
                    "name": "stdout",
                    "text": [
                        "De acordo com sua última compra o produto 'cerveja' é uma boa indicação para ser comprado\n"
                    ]
                }
            ],
            "metadata": {}
        }
    ],
    "metadata": {
        "orig_nbformat": 4,
        "language_info": {
            "name": "python",
            "version": "3.9.5",
            "mimetype": "text/x-python",
            "codemirror_mode": {
                "name": "ipython",
                "version": 3
            },
            "pygments_lexer": "ipython3",
            "nbconvert_exporter": "python",
            "file_extension": ".py"
        },
        "kernelspec": {
            "name": "python3",
            "display_name": "Python 3.9.5 64-bit"
        },
        "interpreter": {
            "hash": "7691dc7e968cae2c1305b7cd748cf3c51f27e2f981106cfee5b02ab727978e13"
        }
    },
    "nbformat": 4,
    "nbformat_minor": 2
}