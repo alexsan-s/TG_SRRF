{
    "cells": [
        {
            "cell_type": "code",
            "execution_count": 77,
            "source": [
                "from apyori import apriori\r\n",
                "min_support = 1\r\n",
                "min_confidence = 0.6\r\n",
                "min_lift = 1.5\r\n",
                "min_length = 1"
            ],
            "outputs": [],
            "metadata": {}
        },
        {
            "cell_type": "code",
            "execution_count": 79,
            "source": [
                "transactions = [\r\n",
                "    ['p1','p2'],\r\n",
                "    ['p1','p2','p3','p4','p5'],\r\n",
                "    ['p1','p3','p4','p5'],\r\n",
                "]\r\n",
                "results = list(apriori(transactions,  min_support=min_support, min_confidence=min_confidence, min_lift=min_lift, min_length=min_length))\r\n",
                "print(results[0])"
            ],
            "outputs": [
                {
                    "output_type": "error",
                    "ename": "IndexError",
                    "evalue": "list index out of range",
                    "traceback": [
                        "\u001b[1;31m---------------------------------------------------------------------------\u001b[0m",
                        "\u001b[1;31mIndexError\u001b[0m                                Traceback (most recent call last)",
                        "\u001b[1;32m<ipython-input-79-e9fdae940099>\u001b[0m in \u001b[0;36m<module>\u001b[1;34m\u001b[0m\n\u001b[0;32m      5\u001b[0m ]\n\u001b[0;32m      6\u001b[0m \u001b[0mresults\u001b[0m \u001b[1;33m=\u001b[0m \u001b[0mlist\u001b[0m\u001b[1;33m(\u001b[0m\u001b[0mapriori\u001b[0m\u001b[1;33m(\u001b[0m\u001b[0mtransactions\u001b[0m\u001b[1;33m,\u001b[0m  \u001b[0mmin_support\u001b[0m\u001b[1;33m=\u001b[0m\u001b[0mmin_support\u001b[0m\u001b[1;33m,\u001b[0m \u001b[0mmin_confidence\u001b[0m\u001b[1;33m=\u001b[0m\u001b[0mmin_confidence\u001b[0m\u001b[1;33m,\u001b[0m \u001b[0mmin_lift\u001b[0m\u001b[1;33m=\u001b[0m\u001b[0mmin_lift\u001b[0m\u001b[1;33m,\u001b[0m \u001b[0mmin_length\u001b[0m\u001b[1;33m=\u001b[0m\u001b[0mmin_length\u001b[0m\u001b[1;33m)\u001b[0m\u001b[1;33m)\u001b[0m\u001b[1;33m\u001b[0m\u001b[1;33m\u001b[0m\u001b[0m\n\u001b[1;32m----> 7\u001b[1;33m \u001b[0mprint\u001b[0m\u001b[1;33m(\u001b[0m\u001b[0mresults\u001b[0m\u001b[1;33m[\u001b[0m\u001b[1;36m0\u001b[0m\u001b[1;33m]\u001b[0m\u001b[1;33m)\u001b[0m\u001b[1;33m\u001b[0m\u001b[1;33m\u001b[0m\u001b[0m\n\u001b[0m",
                        "\u001b[1;31mIndexError\u001b[0m: list index out of range"
                    ]
                }
            ],
            "metadata": {}
        },
        {
            "cell_type": "code",
            "execution_count": 66,
            "source": [
                "results[0]"
            ],
            "outputs": [
                {
                    "output_type": "execute_result",
                    "data": {
                        "text/plain": [
                            "RelationRecord(items=frozenset({'p3', 'p4'}), support=0.6666666666666666, ordered_statistics=[OrderedStatistic(items_base=frozenset({'p3'}), items_add=frozenset({'p4'}), confidence=1.0, lift=1.5), OrderedStatistic(items_base=frozenset({'p4'}), items_add=frozenset({'p3'}), confidence=1.0, lift=1.5)])"
                        ]
                    },
                    "metadata": {},
                    "execution_count": 66
                }
            ],
            "metadata": {}
        },
        {
            "cell_type": "code",
            "execution_count": 7,
            "source": [
                "items = [x for x in results[0]]"
            ],
            "outputs": [],
            "metadata": {}
        },
        {
            "cell_type": "code",
            "execution_count": 10,
            "source": [
                "for item in results:\r\n",
                "\r\n",
                "    # first index of the inner list\r\n",
                "    # Contains base item and add item\r\n",
                "    pair = item[0] \r\n",
                "    items = [x for x in pair]\r\n",
                "    print(items)"
            ],
            "outputs": [
                {
                    "output_type": "stream",
                    "name": "stdout",
                    "text": [
                        "['p3', 'p4']\n",
                        "['p5', 'p3']\n",
                        "['p5', 'p4']\n",
                        "['p1', 'p3', 'p4']\n",
                        "['p5', 'p1', 'p3']\n",
                        "['p5', 'p1', 'p4']\n",
                        "['p5', 'p3', 'p4']\n",
                        "['p5', 'p1', 'p3', 'p4']\n"
                    ]
                }
            ],
            "metadata": {}
        },
        {
            "cell_type": "code",
            "execution_count": 22,
            "source": [
                "listUser = ['p1', 'p2', 'p4']\r\n",
                "for item in results:\r\n",
                "    print(item[2])\r\n",
                "    pair = item[0]\r\n",
                "    items = [x for x in pair]\r\n",
                "    print(items)\r\n",
                "    for y in items:\r\n",
                "        print(y)"
            ],
            "outputs": [
                {
                    "output_type": "stream",
                    "name": "stdout",
                    "text": [
                        "[OrderedStatistic(items_base=frozenset({'p3'}), items_add=frozenset({'p4'}), confidence=1.0, lift=1.5), OrderedStatistic(items_base=frozenset({'p4'}), items_add=frozenset({'p3'}), confidence=1.0, lift=1.5)]\n",
                        "['p3', 'p4']\n",
                        "p3\n",
                        "p4\n",
                        "[OrderedStatistic(items_base=frozenset({'p3'}), items_add=frozenset({'p5'}), confidence=1.0, lift=1.5), OrderedStatistic(items_base=frozenset({'p5'}), items_add=frozenset({'p3'}), confidence=1.0, lift=1.5)]\n",
                        "['p5', 'p3']\n",
                        "p5\n",
                        "p3\n",
                        "[OrderedStatistic(items_base=frozenset({'p4'}), items_add=frozenset({'p5'}), confidence=1.0, lift=1.5), OrderedStatistic(items_base=frozenset({'p5'}), items_add=frozenset({'p4'}), confidence=1.0, lift=1.5)]\n",
                        "['p5', 'p4']\n",
                        "p5\n",
                        "p4\n",
                        "[OrderedStatistic(items_base=frozenset({'p3'}), items_add=frozenset({'p1', 'p4'}), confidence=1.0, lift=1.5), OrderedStatistic(items_base=frozenset({'p4'}), items_add=frozenset({'p1', 'p3'}), confidence=1.0, lift=1.5), OrderedStatistic(items_base=frozenset({'p1', 'p3'}), items_add=frozenset({'p4'}), confidence=1.0, lift=1.5), OrderedStatistic(items_base=frozenset({'p1', 'p4'}), items_add=frozenset({'p3'}), confidence=1.0, lift=1.5)]\n",
                        "['p1', 'p3', 'p4']\n",
                        "p1\n",
                        "p3\n",
                        "p4\n",
                        "[OrderedStatistic(items_base=frozenset({'p3'}), items_add=frozenset({'p5', 'p1'}), confidence=1.0, lift=1.5), OrderedStatistic(items_base=frozenset({'p5'}), items_add=frozenset({'p1', 'p3'}), confidence=1.0, lift=1.5), OrderedStatistic(items_base=frozenset({'p1', 'p3'}), items_add=frozenset({'p5'}), confidence=1.0, lift=1.5), OrderedStatistic(items_base=frozenset({'p5', 'p1'}), items_add=frozenset({'p3'}), confidence=1.0, lift=1.5)]\n",
                        "['p5', 'p1', 'p3']\n",
                        "p5\n",
                        "p1\n",
                        "p3\n",
                        "[OrderedStatistic(items_base=frozenset({'p4'}), items_add=frozenset({'p5', 'p1'}), confidence=1.0, lift=1.5), OrderedStatistic(items_base=frozenset({'p5'}), items_add=frozenset({'p1', 'p4'}), confidence=1.0, lift=1.5), OrderedStatistic(items_base=frozenset({'p1', 'p4'}), items_add=frozenset({'p5'}), confidence=1.0, lift=1.5), OrderedStatistic(items_base=frozenset({'p5', 'p1'}), items_add=frozenset({'p4'}), confidence=1.0, lift=1.5)]\n",
                        "['p5', 'p1', 'p4']\n",
                        "p5\n",
                        "p1\n",
                        "p4\n",
                        "[OrderedStatistic(items_base=frozenset({'p3'}), items_add=frozenset({'p5', 'p4'}), confidence=1.0, lift=1.5), OrderedStatistic(items_base=frozenset({'p4'}), items_add=frozenset({'p5', 'p3'}), confidence=1.0, lift=1.5), OrderedStatistic(items_base=frozenset({'p5'}), items_add=frozenset({'p3', 'p4'}), confidence=1.0, lift=1.5), OrderedStatistic(items_base=frozenset({'p3', 'p4'}), items_add=frozenset({'p5'}), confidence=1.0, lift=1.5), OrderedStatistic(items_base=frozenset({'p5', 'p3'}), items_add=frozenset({'p4'}), confidence=1.0, lift=1.5), OrderedStatistic(items_base=frozenset({'p5', 'p4'}), items_add=frozenset({'p3'}), confidence=1.0, lift=1.5)]\n",
                        "['p5', 'p3', 'p4']\n",
                        "p5\n",
                        "p3\n",
                        "p4\n",
                        "[OrderedStatistic(items_base=frozenset({'p3'}), items_add=frozenset({'p5', 'p1', 'p4'}), confidence=1.0, lift=1.5), OrderedStatistic(items_base=frozenset({'p4'}), items_add=frozenset({'p5', 'p1', 'p3'}), confidence=1.0, lift=1.5), OrderedStatistic(items_base=frozenset({'p5'}), items_add=frozenset({'p1', 'p3', 'p4'}), confidence=1.0, lift=1.5), OrderedStatistic(items_base=frozenset({'p1', 'p3'}), items_add=frozenset({'p5', 'p4'}), confidence=1.0, lift=1.5), OrderedStatistic(items_base=frozenset({'p1', 'p4'}), items_add=frozenset({'p5', 'p3'}), confidence=1.0, lift=1.5), OrderedStatistic(items_base=frozenset({'p5', 'p1'}), items_add=frozenset({'p3', 'p4'}), confidence=1.0, lift=1.5), OrderedStatistic(items_base=frozenset({'p3', 'p4'}), items_add=frozenset({'p5', 'p1'}), confidence=1.0, lift=1.5), OrderedStatistic(items_base=frozenset({'p5', 'p3'}), items_add=frozenset({'p1', 'p4'}), confidence=1.0, lift=1.5), OrderedStatistic(items_base=frozenset({'p5', 'p4'}), items_add=frozenset({'p1', 'p3'}), confidence=1.0, lift=1.5), OrderedStatistic(items_base=frozenset({'p1', 'p3', 'p4'}), items_add=frozenset({'p5'}), confidence=1.0, lift=1.5), OrderedStatistic(items_base=frozenset({'p5', 'p1', 'p3'}), items_add=frozenset({'p4'}), confidence=1.0, lift=1.5), OrderedStatistic(items_base=frozenset({'p5', 'p1', 'p4'}), items_add=frozenset({'p3'}), confidence=1.0, lift=1.5)]\n",
                        "['p5', 'p1', 'p3', 'p4']\n",
                        "p5\n",
                        "p1\n",
                        "p3\n",
                        "p4\n"
                    ]
                }
            ],
            "metadata": {}
        },
        {
            "cell_type": "code",
            "execution_count": 55,
            "source": [
                "from efficient_apriori import apriori\r\n",
                "transactions = [\r\n",
                "    ['p1','p2'],\r\n",
                "    ['p1','p2','p3','p4','p5'],\r\n",
                "    ['p1','p3','p4','p5'],\r\n",
                "]\r\n",
                "itemsets, rules = apriori(transactions, min_confidence = 0.6)\r\n",
                "print(rules)"
            ],
            "outputs": [
                {
                    "output_type": "stream",
                    "name": "stdout",
                    "text": [
                        "[{p2} -> {p1}, {p1} -> {p2}, {p3} -> {p1}, {p1} -> {p3}, {p4} -> {p1}, {p1} -> {p4}, {p5} -> {p1}, {p1} -> {p5}, {p4} -> {p3}, {p3} -> {p4}, {p5} -> {p3}, {p3} -> {p5}, {p5} -> {p4}, {p4} -> {p5}, {p3, p4} -> {p1}, {p1, p4} -> {p3}, {p1, p3} -> {p4}, {p4} -> {p1, p3}, {p3} -> {p1, p4}, {p1} -> {p3, p4}, {p3, p5} -> {p1}, {p1, p5} -> {p3}, {p1, p3} -> {p5}, {p5} -> {p1, p3}, {p3} -> {p1, p5}, {p1} -> {p3, p5}, {p4, p5} -> {p1}, {p1, p5} -> {p4}, {p1, p4} -> {p5}, {p5} -> {p1, p4}, {p4} -> {p1, p5}, {p1} -> {p4, p5}, {p4, p5} -> {p3}, {p3, p5} -> {p4}, {p3, p4} -> {p5}, {p5} -> {p3, p4}, {p4} -> {p3, p5}, {p3} -> {p4, p5}, {p3, p4, p5} -> {p1}, {p1, p4, p5} -> {p3}, {p1, p3, p5} -> {p4}, {p1, p3, p4} -> {p5}, {p4, p5} -> {p1, p3}, {p3, p5} -> {p1, p4}, {p3, p4} -> {p1, p5}, {p1, p5} -> {p3, p4}, {p1, p4} -> {p3, p5}, {p1, p3} -> {p4, p5}, {p5} -> {p1, p3, p4}, {p4} -> {p1, p3, p5}, {p3} -> {p1, p4, p5}, {p1} -> {p3, p4, p5}]\n"
                    ]
                }
            ],
            "metadata": {}
        }
    ],
    "metadata": {
        "orig_nbformat": 4,
        "language_info": {
            "name": "python",
            "version": "3.9.5",
            "mimetype": "text/x-python",
            "codemirror_mode": {
                "name": "ipython",
                "version": 3
            },
            "pygments_lexer": "ipython3",
            "nbconvert_exporter": "python",
            "file_extension": ".py"
        },
        "kernelspec": {
            "name": "python3",
            "display_name": "Python 3.9.5 64-bit"
        },
        "interpreter": {
            "hash": "7691dc7e968cae2c1305b7cd748cf3c51f27e2f981106cfee5b02ab727978e13"
        }
    },
    "nbformat": 4,
    "nbformat_minor": 2
}